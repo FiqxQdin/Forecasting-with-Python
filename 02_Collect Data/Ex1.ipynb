{
 "cells": [
  {
   "cell_type": "code",
   "execution_count": 73,
   "id": "a9b8cf28-267a-4c5d-9f28-3c7c3f1c95bd",
   "metadata": {},
   "outputs": [],
   "source": [
    "import pandas as pd"
   ]
  },
  {
   "cell_type": "code",
   "execution_count": 74,
   "id": "665ad773-cc7f-4087-9a8d-558870f32006",
   "metadata": {},
   "outputs": [],
   "source": [
    "data = {\n",
    "    'Date': ['2017-01-01', '2017-02-01', '2017-03-01', '2017-04-01', '2017-05-01'],\n",
    "    'Opening Inventory': [500, 550, 450, 600, 650],\n",
    "    'Incoming Quantity': [200, 150, 250, 180, 300],\n",
    "    'Outgoing Quantity': [100, 120, 150, 110, 180]\n",
    "}"
   ]
  },
  {
   "cell_type": "code",
   "execution_count": 75,
   "id": "76b5bd3f-177a-4718-b2ff-d4329e752def",
   "metadata": {},
   "outputs": [],
   "source": [
    "df = pd.DataFrame(data)"
   ]
  },
  {
   "cell_type": "code",
   "execution_count": 76,
   "id": "c5a5f849-9cc4-4076-9e4d-fef8204eb52e",
   "metadata": {},
   "outputs": [
    {
     "name": "stdout",
     "output_type": "stream",
     "text": [
      "         Date  Opening Inventory  Incoming Quantity  Outgoing Quantity\n",
      "0  2017-01-01                500                200                100\n",
      "1  2017-02-01                550                150                120\n",
      "2  2017-03-01                450                250                150\n",
      "3  2017-04-01                600                180                110\n",
      "4  2017-05-01                650                300                180\n"
     ]
    }
   ],
   "source": [
    "print (df)"
   ]
  },
  {
   "cell_type": "code",
   "execution_count": 77,
   "id": "f81805e9-48f6-4be9-88d7-6e6d524302eb",
   "metadata": {},
   "outputs": [],
   "source": [
    "df.to_csv('Opening Inventory.csv', index = False)"
   ]
  },
  {
   "cell_type": "code",
   "execution_count": 78,
   "id": "92a6a262-763a-4e3b-ba05-0b6509b007ce",
   "metadata": {},
   "outputs": [],
   "source": [
    "df['Inventory Levels'] = df['Opening Inventory'] + df['Incoming Quantity'] - df['Outgoing Quantity']"
   ]
  },
  {
   "cell_type": "code",
   "execution_count": 79,
   "id": "fb4391dc-c69a-42b9-885c-c71f646ed7c1",
   "metadata": {},
   "outputs": [
    {
     "name": "stdout",
     "output_type": "stream",
     "text": [
      "         Date  Opening Inventory  Incoming Quantity  Outgoing Quantity  \\\n",
      "0  2017-01-01                500                200                100   \n",
      "1  2017-02-01                550                150                120   \n",
      "2  2017-03-01                450                250                150   \n",
      "3  2017-04-01                600                180                110   \n",
      "4  2017-05-01                650                300                180   \n",
      "\n",
      "   Inventory Levels  \n",
      "0               600  \n",
      "1               580  \n",
      "2               550  \n",
      "3               670  \n",
      "4               770  \n"
     ]
    }
   ],
   "source": [
    "print(df)"
   ]
  },
  {
   "cell_type": "code",
   "execution_count": 80,
   "id": "741a81d3-a072-42a0-9225-d9e62d23e431",
   "metadata": {},
   "outputs": [],
   "source": [
    "df.to_csv('Inventory Levels.csv', index = False)"
   ]
  },
  {
   "cell_type": "code",
   "execution_count": 81,
   "id": "efd6cfef-d039-47ed-aad9-5bd79da0d29c",
   "metadata": {},
   "outputs": [],
   "source": [
    "data = {\n",
    "\n",
    "    'Date': ['2017-01-01', '2017-02-01', '2017-03-01', '2017-04-01', '2017-05-01'],\n",
    "\n",
    "    'Order Date': ['2016-12-25', '2017-01-28', '2017-02-15', '2017-03-05', '2017-04-10'],\n",
    "\n",
    "    'Delivery Date': ['2017-01-02', '2017-02-05', '2017-03-02', '2017-04-08', '2017-05-15']\n",
    "\n",
    "}"
   ]
  },
  {
   "cell_type": "code",
   "execution_count": 82,
   "id": "ad62b88f-351f-44ae-86c2-86cbcc68c559",
   "metadata": {},
   "outputs": [],
   "source": [
    "df = pd.DataFrame(data)"
   ]
  },
  {
   "cell_type": "code",
   "execution_count": 83,
   "id": "7b04e019-5730-4794-92bf-c7a482e2581a",
   "metadata": {},
   "outputs": [
    {
     "name": "stdout",
     "output_type": "stream",
     "text": [
      "         Date  Order Date Delivery Date\n",
      "0  2017-01-01  2016-12-25    2017-01-02\n",
      "1  2017-02-01  2017-01-28    2017-02-05\n",
      "2  2017-03-01  2017-02-15    2017-03-02\n",
      "3  2017-04-01  2017-03-05    2017-04-08\n",
      "4  2017-05-01  2017-04-10    2017-05-15\n"
     ]
    }
   ],
   "source": [
    "print(df)"
   ]
  },
  {
   "cell_type": "code",
   "execution_count": 84,
   "id": "33c6150b-2151-4fdd-8730-c9989fa1fa5f",
   "metadata": {},
   "outputs": [],
   "source": [
    "df['Order Date'] = pd.to_datetime(df['Order Date'])\n",
    "df['Delivery Date'] = pd.to_datetime(df['Delivery Date'])\n",
    "df['Delivery Times'] = (df['Delivery Date']-df['Order Date']).dt.days"
   ]
  },
  {
   "cell_type": "code",
   "execution_count": 85,
   "id": "a0195772-3922-4325-9564-6c8944d1f55c",
   "metadata": {},
   "outputs": [
    {
     "name": "stdout",
     "output_type": "stream",
     "text": [
      "         Date Order Date Delivery Date  Delivery Times\n",
      "0  2017-01-01 2016-12-25    2017-01-02               8\n",
      "1  2017-02-01 2017-01-28    2017-02-05               8\n",
      "2  2017-03-01 2017-02-15    2017-03-02              15\n",
      "3  2017-04-01 2017-03-05    2017-04-08              34\n",
      "4  2017-05-01 2017-04-10    2017-05-15              35\n"
     ]
    }
   ],
   "source": [
    "print(df)"
   ]
  },
  {
   "cell_type": "code",
   "execution_count": 86,
   "id": "0851f586-794e-4cf8-aacd-1c539ba1c142",
   "metadata": {},
   "outputs": [],
   "source": [
    "df.to_csv('Order Date.csv', index = False)"
   ]
  },
  {
   "cell_type": "code",
   "execution_count": 87,
   "id": "bd0d4c03-5b19-44a5-8b69-f42a8089ceae",
   "metadata": {},
   "outputs": [],
   "source": [
    "data = {\n",
    "    'Date': ['2017-01-01', '2017-02-01', '2017-03-01', '2017-04-01', '2017-05-01'],\n",
    "    'Shipment Status': ['In Transit', 'Delivered', 'In Transit', 'Delivered', 'In Transit'],\n",
    "    'Inventory Status': ['Low', 'High', 'Medium', 'Medium', 'High']\n",
    "}"
   ]
  },
  {
   "cell_type": "code",
   "execution_count": 88,
   "id": "e7006af5-8e33-4fb7-b812-d8f8cd517d9e",
   "metadata": {},
   "outputs": [],
   "source": [
    "df = pd.DataFrame(data)"
   ]
  },
  {
   "cell_type": "code",
   "execution_count": 89,
   "id": "3acb9a13-b860-4893-9e97-a9120351825d",
   "metadata": {},
   "outputs": [
    {
     "name": "stdout",
     "output_type": "stream",
     "text": [
      "         Date Shipment Status Inventory Status\n",
      "0  2017-01-01      In Transit              Low\n",
      "1  2017-02-01       Delivered             High\n",
      "2  2017-03-01      In Transit           Medium\n",
      "3  2017-04-01       Delivered           Medium\n",
      "4  2017-05-01      In Transit             High\n"
     ]
    }
   ],
   "source": [
    "print(df)"
   ]
  },
  {
   "cell_type": "code",
   "execution_count": 90,
   "id": "c88fb168-a659-49ab-98c8-f6bae0f05ccf",
   "metadata": {},
   "outputs": [],
   "source": [
    "df['Supply Chain Visibility'] = 0\n",
    "df.loc[df['Shipment Status'] == 'Delivered', 'Supply Chain Visibility'] += 1\n",
    "df.loc[df['Inventory Status'] == 'High', 'Supply Chain Visibility'] += 1"
   ]
  },
  {
   "cell_type": "code",
   "execution_count": 91,
   "id": "2782aa6b-363a-460f-a17c-73aac45d992a",
   "metadata": {},
   "outputs": [
    {
     "name": "stdout",
     "output_type": "stream",
     "text": [
      "         Date Shipment Status Inventory Status  Supply Chain Visibility\n",
      "0  2017-01-01      In Transit              Low                        0\n",
      "1  2017-02-01       Delivered             High                        2\n",
      "2  2017-03-01      In Transit           Medium                        0\n",
      "3  2017-04-01       Delivered           Medium                        1\n",
      "4  2017-05-01      In Transit             High                        1\n"
     ]
    }
   ],
   "source": [
    "print(df)"
   ]
  },
  {
   "cell_type": "code",
   "execution_count": 92,
   "id": "e0b7126f-b4bd-4f3a-8711-98dc55e3eb4b",
   "metadata": {},
   "outputs": [],
   "source": [
    "# Create sample data\n",
    "data = {\n",
    "    'Date': ['2017-01-01', '2017-02-01', '2017-03-01', '2017-04-01', '2017-05-01'],\n",
    "    'Location': ['A', 'B', 'C', 'D', 'E'],\n",
    "    'Infrastructure Rating': [3, 2, 4, 3, 2]\n",
    "}"
   ]
  },
  {
   "cell_type": "code",
   "execution_count": 93,
   "id": "b8a563b4-f5b4-4d15-857a-e31c120fdd42",
   "metadata": {},
   "outputs": [],
   "source": [
    "df = pd.DataFrame(data)"
   ]
  },
  {
   "cell_type": "code",
   "execution_count": 94,
   "id": "ea8ccb31-ae1e-40c3-8cf2-a5e331641ed0",
   "metadata": {},
   "outputs": [
    {
     "name": "stdout",
     "output_type": "stream",
     "text": [
      "         Date Location  Infrastructure Rating\n",
      "0  2017-01-01        A                      3\n",
      "1  2017-02-01        B                      2\n",
      "2  2017-03-01        C                      4\n",
      "3  2017-04-01        D                      3\n",
      "4  2017-05-01        E                      2\n"
     ]
    }
   ],
   "source": [
    "print(df)"
   ]
  },
  {
   "cell_type": "code",
   "execution_count": 95,
   "id": "d33b2ad7-624a-4a4d-953c-3b72ee26e317",
   "metadata": {},
   "outputs": [],
   "source": [
    "df.loc[df['Location'] == 'B', 'Infrastructure Rating'] = 5"
   ]
  },
  {
   "cell_type": "code",
   "execution_count": 96,
   "id": "d269062a-ffd4-47e1-8fad-ae43d7532ef3",
   "metadata": {},
   "outputs": [
    {
     "name": "stdout",
     "output_type": "stream",
     "text": [
      "         Date Location  Infrastructure Rating\n",
      "0  2017-01-01        A                      3\n",
      "1  2017-02-01        B                      5\n",
      "2  2017-03-01        C                      4\n",
      "3  2017-04-01        D                      3\n",
      "4  2017-05-01        E                      2\n"
     ]
    }
   ],
   "source": [
    "print(df)"
   ]
  },
  {
   "cell_type": "code",
   "execution_count": 97,
   "id": "eda10323-284d-453a-876e-a62531d0301d",
   "metadata": {},
   "outputs": [],
   "source": [
    "df.loc[df['Location'] == 'A', 'Infrastructure Rating'] = 6"
   ]
  },
  {
   "cell_type": "code",
   "execution_count": 98,
   "id": "6b500d8f-bf25-4daa-8dde-cb8165aaf8f4",
   "metadata": {},
   "outputs": [
    {
     "name": "stdout",
     "output_type": "stream",
     "text": [
      "         Date Location  Infrastructure Rating\n",
      "0  2017-01-01        A                      6\n",
      "1  2017-02-01        B                      5\n",
      "2  2017-03-01        C                      4\n",
      "3  2017-04-01        D                      3\n",
      "4  2017-05-01        E                      2\n"
     ]
    }
   ],
   "source": [
    "print(df)"
   ]
  },
  {
   "cell_type": "code",
   "execution_count": 99,
   "id": "b620d703-b591-49e7-a6d8-b4418dcb3b20",
   "metadata": {},
   "outputs": [],
   "source": [
    "df.to_csv('Infrastructure Rating.csv', index = False)"
   ]
  },
  {
   "cell_type": "code",
   "execution_count": null,
   "id": "5dd40f07-4657-4b73-8c6c-00cc0af11abe",
   "metadata": {},
   "outputs": [],
   "source": []
  }
 ],
 "metadata": {
  "kernelspec": {
   "display_name": "Python 3 (ipykernel)",
   "language": "python",
   "name": "python3"
  },
  "language_info": {
   "codemirror_mode": {
    "name": "ipython",
    "version": 3
   },
   "file_extension": ".py",
   "mimetype": "text/x-python",
   "name": "python",
   "nbconvert_exporter": "python",
   "pygments_lexer": "ipython3",
   "version": "3.10.15"
  }
 },
 "nbformat": 4,
 "nbformat_minor": 5
}
