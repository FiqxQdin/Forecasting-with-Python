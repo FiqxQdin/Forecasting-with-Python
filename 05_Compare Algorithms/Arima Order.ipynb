{
 "cells": [
  {
   "cell_type": "markdown",
   "id": "724dd438-b7ca-4cee-aecd-bbb5139edaec",
   "metadata": {},
   "source": [
    "## ARIMA fit"
   ]
  },
  {
   "cell_type": "code",
   "execution_count": 16,
   "id": "e7b25c1c-9cad-4abe-a016-2be97d1e6ad9",
   "metadata": {},
   "outputs": [],
   "source": [
    "from pmdarima.arima.utils import ndiffs\n",
    "import pandas as pd"
   ]
  },
  {
   "cell_type": "code",
   "execution_count": 22,
   "id": "c387f847-a322-4f63-98c2-f2b47decbb0c",
   "metadata": {},
   "outputs": [],
   "source": [
    "df = pd.read_csv('malaysia2.csv', names = ['value'], header = 0)\n",
    "X = df.value"
   ]
  },
  {
   "cell_type": "code",
   "execution_count": 23,
   "id": "0ea0921b-85a8-44af-9af0-2abc9c86f645",
   "metadata": {},
   "outputs": [],
   "source": [
    "p = ndiffs(X,test='adf')"
   ]
  },
  {
   "cell_type": "code",
   "execution_count": 24,
   "id": "7d3355c3-236b-4f56-8b20-d3505a9ef40b",
   "metadata": {},
   "outputs": [],
   "source": [
    "q = ndiffs(X,test='kpss')"
   ]
  },
  {
   "cell_type": "code",
   "execution_count": 25,
   "id": "d28b04c4-740b-40cb-9722-b42dd67da720",
   "metadata": {},
   "outputs": [],
   "source": [
    "d = ndiffs(X,test='pp')"
   ]
  },
  {
   "cell_type": "code",
   "execution_count": 26,
   "id": "9a0a590d-399d-4164-a7d9-b4822bf6397c",
   "metadata": {},
   "outputs": [
    {
     "name": "stdout",
     "output_type": "stream",
     "text": [
      "p =  0\n",
      "q =  0\n",
      "d =  0\n"
     ]
    }
   ],
   "source": [
    "print('p = ',p)\n",
    "print('q = ',q)\n",
    "print('d = ',d)"
   ]
  },
  {
   "cell_type": "code",
   "execution_count": null,
   "id": "af2250e3-1b05-47a9-9ac4-5a4de055160a",
   "metadata": {},
   "outputs": [],
   "source": []
  }
 ],
 "metadata": {
  "kernelspec": {
   "display_name": "Python 3 (ipykernel)",
   "language": "python",
   "name": "python3"
  },
  "language_info": {
   "codemirror_mode": {
    "name": "ipython",
    "version": 3
   },
   "file_extension": ".py",
   "mimetype": "text/x-python",
   "name": "python",
   "nbconvert_exporter": "python",
   "pygments_lexer": "ipython3",
   "version": "3.10.15"
  }
 },
 "nbformat": 4,
 "nbformat_minor": 5
}
