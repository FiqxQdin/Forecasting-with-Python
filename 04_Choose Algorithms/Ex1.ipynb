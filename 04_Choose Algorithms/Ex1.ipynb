{
 "cells": [
  {
   "cell_type": "code",
   "execution_count": 1,
   "id": "85c2637c-5ff2-42f4-8733-57c59b9d620f",
   "metadata": {},
   "outputs": [
    {
     "name": "stderr",
     "output_type": "stream",
     "text": [
      "C:\\Users\\NURAFIQAHALIAHBINTIQ\\anaconda3\\envs\\ForecastPython\\lib\\site-packages\\tqdm\\auto.py:21: TqdmWarning: IProgress not found. Please update jupyter and ipywidgets. See https://ipywidgets.readthedocs.io/en/stable/user_install.html\n",
      "  from .autonotebook import tqdm as notebook_tqdm\n",
      "Importing plotly failed. Interactive plots will not work.\n"
     ]
    }
   ],
   "source": [
    "import pandas as pd\n",
    "import matplotlib.pyplot as plt\n",
    "from prophet import Prophet"
   ]
  },
  {
   "cell_type": "code",
   "execution_count": 2,
   "id": "be0cb07d-507e-4d60-9ccd-9a5fa23c0445",
   "metadata": {},
   "outputs": [],
   "source": [
    "df = pd.read_csv('Book1.csv')"
   ]
  },
  {
   "cell_type": "code",
   "execution_count": 3,
   "id": "18620c64-7e6a-4ff0-bafe-1c0a63dc9376",
   "metadata": {},
   "outputs": [
    {
     "data": {
      "text/html": [
       "<div>\n",
       "<style scoped>\n",
       "    .dataframe tbody tr th:only-of-type {\n",
       "        vertical-align: middle;\n",
       "    }\n",
       "\n",
       "    .dataframe tbody tr th {\n",
       "        vertical-align: top;\n",
       "    }\n",
       "\n",
       "    .dataframe thead th {\n",
       "        text-align: right;\n",
       "    }\n",
       "</style>\n",
       "<table border=\"1\" class=\"dataframe\">\n",
       "  <thead>\n",
       "    <tr style=\"text-align: right;\">\n",
       "      <th></th>\n",
       "      <th>Month</th>\n",
       "      <th>Small</th>\n",
       "      <th>Big</th>\n",
       "      <th>Total</th>\n",
       "    </tr>\n",
       "  </thead>\n",
       "  <tbody>\n",
       "    <tr>\n",
       "      <th>0</th>\n",
       "      <td>2022-01-01</td>\n",
       "      <td>6990</td>\n",
       "      <td>5112</td>\n",
       "      <td>12102</td>\n",
       "    </tr>\n",
       "    <tr>\n",
       "      <th>1</th>\n",
       "      <td>2022-02-01</td>\n",
       "      <td>26108</td>\n",
       "      <td>25502</td>\n",
       "      <td>51610</td>\n",
       "    </tr>\n",
       "    <tr>\n",
       "      <th>2</th>\n",
       "      <td>2022-03-01</td>\n",
       "      <td>11869</td>\n",
       "      <td>6121</td>\n",
       "      <td>17990</td>\n",
       "    </tr>\n",
       "    <tr>\n",
       "      <th>3</th>\n",
       "      <td>2022-04-01</td>\n",
       "      <td>9504</td>\n",
       "      <td>6283</td>\n",
       "      <td>15787</td>\n",
       "    </tr>\n",
       "    <tr>\n",
       "      <th>4</th>\n",
       "      <td>2022-05-01</td>\n",
       "      <td>11178</td>\n",
       "      <td>9287</td>\n",
       "      <td>20465</td>\n",
       "    </tr>\n",
       "    <tr>\n",
       "      <th>5</th>\n",
       "      <td>2022-06-01</td>\n",
       "      <td>13902</td>\n",
       "      <td>8165</td>\n",
       "      <td>22067</td>\n",
       "    </tr>\n",
       "    <tr>\n",
       "      <th>6</th>\n",
       "      <td>2022-07-01</td>\n",
       "      <td>10530</td>\n",
       "      <td>5904</td>\n",
       "      <td>16434</td>\n",
       "    </tr>\n",
       "    <tr>\n",
       "      <th>7</th>\n",
       "      <td>2022-08-01</td>\n",
       "      <td>14919</td>\n",
       "      <td>9436</td>\n",
       "      <td>24355</td>\n",
       "    </tr>\n",
       "    <tr>\n",
       "      <th>8</th>\n",
       "      <td>2022-09-01</td>\n",
       "      <td>9123</td>\n",
       "      <td>11570</td>\n",
       "      <td>20693</td>\n",
       "    </tr>\n",
       "    <tr>\n",
       "      <th>9</th>\n",
       "      <td>2022-10-01</td>\n",
       "      <td>10222</td>\n",
       "      <td>7674</td>\n",
       "      <td>17896</td>\n",
       "    </tr>\n",
       "    <tr>\n",
       "      <th>10</th>\n",
       "      <td>2022-11-01</td>\n",
       "      <td>10981</td>\n",
       "      <td>5857</td>\n",
       "      <td>16838</td>\n",
       "    </tr>\n",
       "    <tr>\n",
       "      <th>11</th>\n",
       "      <td>2022-12-01</td>\n",
       "      <td>763</td>\n",
       "      <td>241</td>\n",
       "      <td>1004</td>\n",
       "    </tr>\n",
       "    <tr>\n",
       "      <th>12</th>\n",
       "      <td>2023-01-01</td>\n",
       "      <td>4628</td>\n",
       "      <td>2692</td>\n",
       "      <td>7320</td>\n",
       "    </tr>\n",
       "    <tr>\n",
       "      <th>13</th>\n",
       "      <td>2023-02-01</td>\n",
       "      <td>8024</td>\n",
       "      <td>4876</td>\n",
       "      <td>12900</td>\n",
       "    </tr>\n",
       "    <tr>\n",
       "      <th>14</th>\n",
       "      <td>2023-03-01</td>\n",
       "      <td>7400</td>\n",
       "      <td>4148</td>\n",
       "      <td>11548</td>\n",
       "    </tr>\n",
       "    <tr>\n",
       "      <th>15</th>\n",
       "      <td>2023-04-01</td>\n",
       "      <td>9805</td>\n",
       "      <td>4389</td>\n",
       "      <td>14194</td>\n",
       "    </tr>\n",
       "    <tr>\n",
       "      <th>16</th>\n",
       "      <td>2023-05-01</td>\n",
       "      <td>11966</td>\n",
       "      <td>8617</td>\n",
       "      <td>20583</td>\n",
       "    </tr>\n",
       "    <tr>\n",
       "      <th>17</th>\n",
       "      <td>2023-06-01</td>\n",
       "      <td>11371</td>\n",
       "      <td>7017</td>\n",
       "      <td>18388</td>\n",
       "    </tr>\n",
       "  </tbody>\n",
       "</table>\n",
       "</div>"
      ],
      "text/plain": [
       "         Month  Small    Big  Total\n",
       "0   2022-01-01   6990   5112  12102\n",
       "1   2022-02-01  26108  25502  51610\n",
       "2   2022-03-01  11869   6121  17990\n",
       "3   2022-04-01   9504   6283  15787\n",
       "4   2022-05-01  11178   9287  20465\n",
       "5   2022-06-01  13902   8165  22067\n",
       "6   2022-07-01  10530   5904  16434\n",
       "7   2022-08-01  14919   9436  24355\n",
       "8   2022-09-01   9123  11570  20693\n",
       "9   2022-10-01  10222   7674  17896\n",
       "10  2022-11-01  10981   5857  16838\n",
       "11  2022-12-01    763    241   1004\n",
       "12  2023-01-01   4628   2692   7320\n",
       "13  2023-02-01   8024   4876  12900\n",
       "14  2023-03-01   7400   4148  11548\n",
       "15  2023-04-01   9805   4389  14194\n",
       "16  2023-05-01  11966   8617  20583\n",
       "17  2023-06-01  11371   7017  18388"
      ]
     },
     "execution_count": 3,
     "metadata": {},
     "output_type": "execute_result"
    }
   ],
   "source": [
    "df"
   ]
  },
  {
   "cell_type": "code",
   "execution_count": 4,
   "id": "48e355c9-b907-479b-87d9-fabbfba08846",
   "metadata": {},
   "outputs": [],
   "source": [
    "df['Month'] = pd.to_datetime(df['Month'], format='%Y-%m-%d')"
   ]
  },
  {
   "cell_type": "code",
   "execution_count": 5,
   "id": "239d41a1-5969-445d-894f-0434284da4e9",
   "metadata": {},
   "outputs": [
    {
     "data": {
      "text/html": [
       "<div>\n",
       "<style scoped>\n",
       "    .dataframe tbody tr th:only-of-type {\n",
       "        vertical-align: middle;\n",
       "    }\n",
       "\n",
       "    .dataframe tbody tr th {\n",
       "        vertical-align: top;\n",
       "    }\n",
       "\n",
       "    .dataframe thead th {\n",
       "        text-align: right;\n",
       "    }\n",
       "</style>\n",
       "<table border=\"1\" class=\"dataframe\">\n",
       "  <thead>\n",
       "    <tr style=\"text-align: right;\">\n",
       "      <th></th>\n",
       "      <th>Month</th>\n",
       "      <th>Small</th>\n",
       "      <th>Big</th>\n",
       "      <th>Total</th>\n",
       "    </tr>\n",
       "  </thead>\n",
       "  <tbody>\n",
       "    <tr>\n",
       "      <th>0</th>\n",
       "      <td>2022-01-01</td>\n",
       "      <td>6990</td>\n",
       "      <td>5112</td>\n",
       "      <td>12102</td>\n",
       "    </tr>\n",
       "    <tr>\n",
       "      <th>1</th>\n",
       "      <td>2022-02-01</td>\n",
       "      <td>26108</td>\n",
       "      <td>25502</td>\n",
       "      <td>51610</td>\n",
       "    </tr>\n",
       "    <tr>\n",
       "      <th>2</th>\n",
       "      <td>2022-03-01</td>\n",
       "      <td>11869</td>\n",
       "      <td>6121</td>\n",
       "      <td>17990</td>\n",
       "    </tr>\n",
       "    <tr>\n",
       "      <th>3</th>\n",
       "      <td>2022-04-01</td>\n",
       "      <td>9504</td>\n",
       "      <td>6283</td>\n",
       "      <td>15787</td>\n",
       "    </tr>\n",
       "    <tr>\n",
       "      <th>4</th>\n",
       "      <td>2022-05-01</td>\n",
       "      <td>11178</td>\n",
       "      <td>9287</td>\n",
       "      <td>20465</td>\n",
       "    </tr>\n",
       "    <tr>\n",
       "      <th>5</th>\n",
       "      <td>2022-06-01</td>\n",
       "      <td>13902</td>\n",
       "      <td>8165</td>\n",
       "      <td>22067</td>\n",
       "    </tr>\n",
       "    <tr>\n",
       "      <th>6</th>\n",
       "      <td>2022-07-01</td>\n",
       "      <td>10530</td>\n",
       "      <td>5904</td>\n",
       "      <td>16434</td>\n",
       "    </tr>\n",
       "    <tr>\n",
       "      <th>7</th>\n",
       "      <td>2022-08-01</td>\n",
       "      <td>14919</td>\n",
       "      <td>9436</td>\n",
       "      <td>24355</td>\n",
       "    </tr>\n",
       "    <tr>\n",
       "      <th>8</th>\n",
       "      <td>2022-09-01</td>\n",
       "      <td>9123</td>\n",
       "      <td>11570</td>\n",
       "      <td>20693</td>\n",
       "    </tr>\n",
       "    <tr>\n",
       "      <th>9</th>\n",
       "      <td>2022-10-01</td>\n",
       "      <td>10222</td>\n",
       "      <td>7674</td>\n",
       "      <td>17896</td>\n",
       "    </tr>\n",
       "    <tr>\n",
       "      <th>10</th>\n",
       "      <td>2022-11-01</td>\n",
       "      <td>10981</td>\n",
       "      <td>5857</td>\n",
       "      <td>16838</td>\n",
       "    </tr>\n",
       "    <tr>\n",
       "      <th>11</th>\n",
       "      <td>2022-12-01</td>\n",
       "      <td>763</td>\n",
       "      <td>241</td>\n",
       "      <td>1004</td>\n",
       "    </tr>\n",
       "    <tr>\n",
       "      <th>12</th>\n",
       "      <td>2023-01-01</td>\n",
       "      <td>4628</td>\n",
       "      <td>2692</td>\n",
       "      <td>7320</td>\n",
       "    </tr>\n",
       "    <tr>\n",
       "      <th>13</th>\n",
       "      <td>2023-02-01</td>\n",
       "      <td>8024</td>\n",
       "      <td>4876</td>\n",
       "      <td>12900</td>\n",
       "    </tr>\n",
       "    <tr>\n",
       "      <th>14</th>\n",
       "      <td>2023-03-01</td>\n",
       "      <td>7400</td>\n",
       "      <td>4148</td>\n",
       "      <td>11548</td>\n",
       "    </tr>\n",
       "    <tr>\n",
       "      <th>15</th>\n",
       "      <td>2023-04-01</td>\n",
       "      <td>9805</td>\n",
       "      <td>4389</td>\n",
       "      <td>14194</td>\n",
       "    </tr>\n",
       "    <tr>\n",
       "      <th>16</th>\n",
       "      <td>2023-05-01</td>\n",
       "      <td>11966</td>\n",
       "      <td>8617</td>\n",
       "      <td>20583</td>\n",
       "    </tr>\n",
       "    <tr>\n",
       "      <th>17</th>\n",
       "      <td>2023-06-01</td>\n",
       "      <td>11371</td>\n",
       "      <td>7017</td>\n",
       "      <td>18388</td>\n",
       "    </tr>\n",
       "  </tbody>\n",
       "</table>\n",
       "</div>"
      ],
      "text/plain": [
       "        Month  Small    Big  Total\n",
       "0  2022-01-01   6990   5112  12102\n",
       "1  2022-02-01  26108  25502  51610\n",
       "2  2022-03-01  11869   6121  17990\n",
       "3  2022-04-01   9504   6283  15787\n",
       "4  2022-05-01  11178   9287  20465\n",
       "5  2022-06-01  13902   8165  22067\n",
       "6  2022-07-01  10530   5904  16434\n",
       "7  2022-08-01  14919   9436  24355\n",
       "8  2022-09-01   9123  11570  20693\n",
       "9  2022-10-01  10222   7674  17896\n",
       "10 2022-11-01  10981   5857  16838\n",
       "11 2022-12-01    763    241   1004\n",
       "12 2023-01-01   4628   2692   7320\n",
       "13 2023-02-01   8024   4876  12900\n",
       "14 2023-03-01   7400   4148  11548\n",
       "15 2023-04-01   9805   4389  14194\n",
       "16 2023-05-01  11966   8617  20583\n",
       "17 2023-06-01  11371   7017  18388"
      ]
     },
     "execution_count": 5,
     "metadata": {},
     "output_type": "execute_result"
    }
   ],
   "source": [
    "df"
   ]
  },
  {
   "cell_type": "code",
   "execution_count": 6,
   "id": "f3004d15-93f3-4aed-83d6-12a6a1aa0e39",
   "metadata": {},
   "outputs": [],
   "source": [
    "df.rename(columns= {'Month':'ds', 'Total': 'y'},inplace=True)"
   ]
  },
  {
   "cell_type": "code",
   "execution_count": 7,
   "id": "f4ef0af0-a356-458a-ad37-7141ea296341",
   "metadata": {},
   "outputs": [
    {
     "data": {
      "text/html": [
       "<div>\n",
       "<style scoped>\n",
       "    .dataframe tbody tr th:only-of-type {\n",
       "        vertical-align: middle;\n",
       "    }\n",
       "\n",
       "    .dataframe tbody tr th {\n",
       "        vertical-align: top;\n",
       "    }\n",
       "\n",
       "    .dataframe thead th {\n",
       "        text-align: right;\n",
       "    }\n",
       "</style>\n",
       "<table border=\"1\" class=\"dataframe\">\n",
       "  <thead>\n",
       "    <tr style=\"text-align: right;\">\n",
       "      <th></th>\n",
       "      <th>ds</th>\n",
       "      <th>Small</th>\n",
       "      <th>Big</th>\n",
       "      <th>y</th>\n",
       "    </tr>\n",
       "  </thead>\n",
       "  <tbody>\n",
       "    <tr>\n",
       "      <th>0</th>\n",
       "      <td>2022-01-01</td>\n",
       "      <td>6990</td>\n",
       "      <td>5112</td>\n",
       "      <td>12102</td>\n",
       "    </tr>\n",
       "    <tr>\n",
       "      <th>1</th>\n",
       "      <td>2022-02-01</td>\n",
       "      <td>26108</td>\n",
       "      <td>25502</td>\n",
       "      <td>51610</td>\n",
       "    </tr>\n",
       "    <tr>\n",
       "      <th>2</th>\n",
       "      <td>2022-03-01</td>\n",
       "      <td>11869</td>\n",
       "      <td>6121</td>\n",
       "      <td>17990</td>\n",
       "    </tr>\n",
       "    <tr>\n",
       "      <th>3</th>\n",
       "      <td>2022-04-01</td>\n",
       "      <td>9504</td>\n",
       "      <td>6283</td>\n",
       "      <td>15787</td>\n",
       "    </tr>\n",
       "    <tr>\n",
       "      <th>4</th>\n",
       "      <td>2022-05-01</td>\n",
       "      <td>11178</td>\n",
       "      <td>9287</td>\n",
       "      <td>20465</td>\n",
       "    </tr>\n",
       "    <tr>\n",
       "      <th>5</th>\n",
       "      <td>2022-06-01</td>\n",
       "      <td>13902</td>\n",
       "      <td>8165</td>\n",
       "      <td>22067</td>\n",
       "    </tr>\n",
       "    <tr>\n",
       "      <th>6</th>\n",
       "      <td>2022-07-01</td>\n",
       "      <td>10530</td>\n",
       "      <td>5904</td>\n",
       "      <td>16434</td>\n",
       "    </tr>\n",
       "    <tr>\n",
       "      <th>7</th>\n",
       "      <td>2022-08-01</td>\n",
       "      <td>14919</td>\n",
       "      <td>9436</td>\n",
       "      <td>24355</td>\n",
       "    </tr>\n",
       "    <tr>\n",
       "      <th>8</th>\n",
       "      <td>2022-09-01</td>\n",
       "      <td>9123</td>\n",
       "      <td>11570</td>\n",
       "      <td>20693</td>\n",
       "    </tr>\n",
       "    <tr>\n",
       "      <th>9</th>\n",
       "      <td>2022-10-01</td>\n",
       "      <td>10222</td>\n",
       "      <td>7674</td>\n",
       "      <td>17896</td>\n",
       "    </tr>\n",
       "    <tr>\n",
       "      <th>10</th>\n",
       "      <td>2022-11-01</td>\n",
       "      <td>10981</td>\n",
       "      <td>5857</td>\n",
       "      <td>16838</td>\n",
       "    </tr>\n",
       "    <tr>\n",
       "      <th>11</th>\n",
       "      <td>2022-12-01</td>\n",
       "      <td>763</td>\n",
       "      <td>241</td>\n",
       "      <td>1004</td>\n",
       "    </tr>\n",
       "    <tr>\n",
       "      <th>12</th>\n",
       "      <td>2023-01-01</td>\n",
       "      <td>4628</td>\n",
       "      <td>2692</td>\n",
       "      <td>7320</td>\n",
       "    </tr>\n",
       "    <tr>\n",
       "      <th>13</th>\n",
       "      <td>2023-02-01</td>\n",
       "      <td>8024</td>\n",
       "      <td>4876</td>\n",
       "      <td>12900</td>\n",
       "    </tr>\n",
       "    <tr>\n",
       "      <th>14</th>\n",
       "      <td>2023-03-01</td>\n",
       "      <td>7400</td>\n",
       "      <td>4148</td>\n",
       "      <td>11548</td>\n",
       "    </tr>\n",
       "    <tr>\n",
       "      <th>15</th>\n",
       "      <td>2023-04-01</td>\n",
       "      <td>9805</td>\n",
       "      <td>4389</td>\n",
       "      <td>14194</td>\n",
       "    </tr>\n",
       "    <tr>\n",
       "      <th>16</th>\n",
       "      <td>2023-05-01</td>\n",
       "      <td>11966</td>\n",
       "      <td>8617</td>\n",
       "      <td>20583</td>\n",
       "    </tr>\n",
       "    <tr>\n",
       "      <th>17</th>\n",
       "      <td>2023-06-01</td>\n",
       "      <td>11371</td>\n",
       "      <td>7017</td>\n",
       "      <td>18388</td>\n",
       "    </tr>\n",
       "  </tbody>\n",
       "</table>\n",
       "</div>"
      ],
      "text/plain": [
       "           ds  Small    Big      y\n",
       "0  2022-01-01   6990   5112  12102\n",
       "1  2022-02-01  26108  25502  51610\n",
       "2  2022-03-01  11869   6121  17990\n",
       "3  2022-04-01   9504   6283  15787\n",
       "4  2022-05-01  11178   9287  20465\n",
       "5  2022-06-01  13902   8165  22067\n",
       "6  2022-07-01  10530   5904  16434\n",
       "7  2022-08-01  14919   9436  24355\n",
       "8  2022-09-01   9123  11570  20693\n",
       "9  2022-10-01  10222   7674  17896\n",
       "10 2022-11-01  10981   5857  16838\n",
       "11 2022-12-01    763    241   1004\n",
       "12 2023-01-01   4628   2692   7320\n",
       "13 2023-02-01   8024   4876  12900\n",
       "14 2023-03-01   7400   4148  11548\n",
       "15 2023-04-01   9805   4389  14194\n",
       "16 2023-05-01  11966   8617  20583\n",
       "17 2023-06-01  11371   7017  18388"
      ]
     },
     "execution_count": 7,
     "metadata": {},
     "output_type": "execute_result"
    }
   ],
   "source": [
    "df"
   ]
  },
  {
   "cell_type": "code",
   "execution_count": 8,
   "id": "26a35e9a-832b-46cc-9082-5cb4536da2b5",
   "metadata": {},
   "outputs": [],
   "source": [
    "model = Prophet()"
   ]
  },
  {
   "cell_type": "code",
   "execution_count": 9,
   "id": "31784634-f2cf-4446-8829-9a4fa203c5d8",
   "metadata": {},
   "outputs": [
    {
     "name": "stderr",
     "output_type": "stream",
     "text": [
      "11:28:26 - cmdstanpy - INFO - Chain [1] start processing\n",
      "11:28:27 - cmdstanpy - INFO - Chain [1] done processing\n"
     ]
    },
    {
     "data": {
      "text/plain": [
       "<prophet.forecaster.Prophet at 0x1d1af351300>"
      ]
     },
     "execution_count": 9,
     "metadata": {},
     "output_type": "execute_result"
    }
   ],
   "source": [
    "model.fit(df)"
   ]
  },
  {
   "cell_type": "code",
   "execution_count": 10,
   "id": "04ba25fc-ad57-47c1-aa92-4026eaae1e48",
   "metadata": {},
   "outputs": [
    {
     "name": "stderr",
     "output_type": "stream",
     "text": [
      "C:\\Users\\NURAFIQAHALIAHBINTIQ\\anaconda3\\envs\\ForecastPython\\lib\\site-packages\\prophet\\forecaster.py:1854: FutureWarning: 'M' is deprecated and will be removed in a future version, please use 'ME' instead.\n",
      "  dates = pd.date_range(\n"
     ]
    }
   ],
   "source": [
    "future_dates =  model.make_future_dataframe(periods=3, freq='M')"
   ]
  },
  {
   "cell_type": "code",
   "execution_count": 11,
   "id": "840c048f-ad13-45a6-b49c-c23da6583583",
   "metadata": {},
   "outputs": [],
   "source": [
    "forecast = model.predict(future_dates)"
   ]
  },
  {
   "cell_type": "code",
   "execution_count": 12,
   "id": "a2fbd7dd-4cfc-4c5e-8a00-eb226a741bda",
   "metadata": {},
   "outputs": [
    {
     "name": "stderr",
     "output_type": "stream",
     "text": [
      "C:\\Users\\NURAFIQAHALIAHBINTIQ\\anaconda3\\envs\\ForecastPython\\lib\\site-packages\\prophet\\plot.py:72: FutureWarning: The behavior of DatetimeProperties.to_pydatetime is deprecated, in a future version this will return a Series containing python datetime objects instead of an ndarray. To retain the old behavior, call `np.array` on the result\n",
      "  fcst_t = fcst['ds'].dt.to_pydatetime()\n",
      "C:\\Users\\NURAFIQAHALIAHBINTIQ\\anaconda3\\envs\\ForecastPython\\lib\\site-packages\\prophet\\plot.py:73: FutureWarning: The behavior of DatetimeProperties.to_pydatetime is deprecated, in a future version this will return a Series containing python datetime objects instead of an ndarray. To retain the old behavior, call `np.array` on the result\n",
      "  ax.plot(m.history['ds'].dt.to_pydatetime(), m.history['y'], 'k.',\n"
     ]
    },
    {
     "data": {
      "image/png": "[encoded data removed]",
      "text/plain": [
       "<Figure size 1000x600 with 1 Axes>"
      ]
     },
     "execution_count": 12,
     "metadata": {},
     "output_type": "execute_result"
    },
    {
     "data": {
      "image/png": "[encoded data removed]",
      "text/plain": [
       "<Figure size 1000x600 with 1 Axes>"
      ]
     },
     "metadata": {},
     "output_type": "display_data"
    }
   ],
   "source": [
    "model.plot(forecast)"
   ]
  },
  {
   "cell_type": "code",
   "execution_count": 13,
   "id": "a76e1171-7134-46a5-afc8-e680d17219b9",
   "metadata": {},
   "outputs": [
    {
     "data": {
      "image/png": "[encoded data removed]",
      "text/plain": [
       "<Figure size 640x480 with 1 Axes>"
      ]
     },
     "metadata": {},
     "output_type": "display_data"
    }
   ],
   "source": [
    "plt.xlabel('Month')\n",
    "plt.ylabel('Total')\n",
    "plt.title('Total Sales Forecasrt')\n",
    "plt.show()"
   ]
  },
  {
   "cell_type": "code",
   "execution_count": 14,
   "id": "1ba06ab2-cf49-4bc7-8ef6-9f9f7f5036ad",
   "metadata": {},
   "outputs": [],
   "source": [
    "forecast_values = forecast[['ds', 'yhat']].tail(4)"
   ]
  },
  {
   "cell_type": "code",
   "execution_count": 15,
   "id": "67c6e4a1-b6c7-40dd-91d2-01ca551fb603",
   "metadata": {},
   "outputs": [
    {
     "name": "stdout",
     "output_type": "stream",
     "text": [
      "Forecasts: \n"
     ]
    }
   ],
   "source": [
    "print(\"Forecasts: \")"
   ]
  },
  {
   "cell_type": "code",
   "execution_count": 16,
   "id": "d55f1765-339f-4d02-9211-c52490ae1e14",
   "metadata": {},
   "outputs": [
    {
     "name": "stdout",
     "output_type": "stream",
     "text": [
      "           ds          yhat\n",
      "17 2023-06-01  11514.397413\n",
      "18 2023-06-30  10794.469217\n",
      "19 2023-07-31  10024.890800\n",
      "20 2023-08-31   9255.312384\n"
     ]
    }
   ],
   "source": [
    "print(forecast_values)"
   ]
  }
 ],
 "metadata": {
  "kernelspec": {
   "display_name": "Python 3 (ipykernel)",
   "language": "python",
   "name": "python3"
  },
  "language_info": {
   "codemirror_mode": {
    "name": "ipython",
    "version": 3
   },
   "file_extension": ".py",
   "mimetype": "text/x-python",
   "name": "python",
   "nbconvert_exporter": "python",
   "pygments_lexer": "ipython3",
   "version": "3.10.15"
  }
 },
 "nbformat": 4,
 "nbformat_minor": 5
}
