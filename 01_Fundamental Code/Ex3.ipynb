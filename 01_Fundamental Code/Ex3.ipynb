{
 "cells": [
  {
   "cell_type": "code",
   "execution_count": 1,
   "id": "a9b8cf28-267a-4c5d-9f28-3c7c3f1c95bd",
   "metadata": {},
   "outputs": [],
   "source": [
    "import pandas as pd"
   ]
  },
  {
   "cell_type": "code",
   "execution_count": 3,
   "id": "665ad773-cc7f-4087-9a8d-558870f32006",
   "metadata": {},
   "outputs": [],
   "source": [
    "data = {\n",
    "    'Date': ['2017-01-01', '2017-02-01', '2017-03-01', '2017-04-01', '2017-05-01'],\n",
    "    'Opening Inventory': [500, 550, 450, 600, 650],\n",
    "    'Incoming Quantity': [200, 150, 250, 180, 300],\n",
    "    'Outgoing Quantity': [100, 120, 150, 110, 180]\n",
    "}"
   ]
  },
  {
   "cell_type": "code",
   "execution_count": 4,
   "id": "76b5bd3f-177a-4718-b2ff-d4329e752def",
   "metadata": {},
   "outputs": [],
   "source": [
    "df = pd.DataFrame(data)"
   ]
  },
  {
   "cell_type": "code",
   "execution_count": 5,
   "id": "c5a5f849-9cc4-4076-9e4d-fef8204eb52e",
   "metadata": {},
   "outputs": [
    {
     "name": "stdout",
     "output_type": "stream",
     "text": [
      "         Date  Opening Inventory  Incoming Quantity  Outgoing Quantity\n",
      "0  2017-01-01                500                200                100\n",
      "1  2017-02-01                550                150                120\n",
      "2  2017-03-01                450                250                150\n",
      "3  2017-04-01                600                180                110\n",
      "4  2017-05-01                650                300                180\n"
     ]
    }
   ],
   "source": [
    "print (df)"
   ]
  },
  {
   "cell_type": "code",
   "execution_count": 6,
   "id": "92a6a262-763a-4e3b-ba05-0b6509b007ce",
   "metadata": {},
   "outputs": [],
   "source": [
    "df['Inventory Levels'] = df['Opening Inventory'] + df['Incoming Quantity'] - df['Outgoing Quantity']"
   ]
  },
  {
   "cell_type": "code",
   "execution_count": 7,
   "id": "fb4391dc-c69a-42b9-885c-c71f646ed7c1",
   "metadata": {},
   "outputs": [
    {
     "name": "stdout",
     "output_type": "stream",
     "text": [
      "         Date  Opening Inventory  Incoming Quantity  Outgoing Quantity  \\\n",
      "0  2017-01-01                500                200                100   \n",
      "1  2017-02-01                550                150                120   \n",
      "2  2017-03-01                450                250                150   \n",
      "3  2017-04-01                600                180                110   \n",
      "4  2017-05-01                650                300                180   \n",
      "\n",
      "   Inventory Levels  \n",
      "0               600  \n",
      "1               580  \n",
      "2               550  \n",
      "3               670  \n",
      "4               770  \n"
     ]
    }
   ],
   "source": [
    "print(df)"
   ]
  },
  {
   "cell_type": "code",
   "execution_count": null,
   "id": "efd6cfef-d039-47ed-aad9-5bd79da0d29c",
   "metadata": {},
   "outputs": [],
   "source": []
  }
 ],
 "metadata": {
  "kernelspec": {
   "display_name": "Python 3 (ipykernel)",
   "language": "python",
   "name": "python3"
  },
  "language_info": {
   "codemirror_mode": {
    "name": "ipython",
    "version": 3
   },
   "file_extension": ".py",
   "mimetype": "text/x-python",
   "name": "python",
   "nbconvert_exporter": "python",
   "pygments_lexer": "ipython3",
   "version": "3.10.15"
  }
 },
 "nbformat": 4,
 "nbformat_minor": 5
}
