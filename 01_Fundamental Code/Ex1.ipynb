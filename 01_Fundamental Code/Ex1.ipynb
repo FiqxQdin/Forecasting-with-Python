{
 "cells": [
  {
   "cell_type": "code",
   "execution_count": 5,
   "id": "012758e7-144d-44d4-a433-5e23f96667df",
   "metadata": {},
   "outputs": [
    {
     "name": "stdout",
     "output_type": "stream",
     "text": [
      "Hello\n",
      "K-Youth\n"
     ]
    }
   ],
   "source": [
    "# Introduction to Python\n",
    "\n",
    "print ('Hello')\n",
    "print ('K-Youth')"
   ]
  },
  {
   "cell_type": "code",
   "execution_count": 6,
   "id": "37b50164-bfd5-4989-9ba1-4e4739303e21",
   "metadata": {},
   "outputs": [
    {
     "name": "stdout",
     "output_type": "stream",
     "text": [
      "Fiqx\n"
     ]
    }
   ],
   "source": [
    "nama = 'Fiqx'\n",
    "print (nama)"
   ]
  },
  {
   "cell_type": "code",
   "execution_count": 8,
   "id": "a59dff78-59f0-4526-9ecd-8eb21ffedeec",
   "metadata": {},
   "outputs": [
    {
     "name": "stdin",
     "output_type": "stream",
     "text": [
      "Insert your name: Fiqx\n"
     ]
    },
    {
     "data": {
      "text/plain": [
       "'Fiqx'"
      ]
     },
     "execution_count": 8,
     "metadata": {},
     "output_type": "execute_result"
    }
   ],
   "source": [
    "input ('Insert your name:')"
   ]
  }
 ],
 "metadata": {
  "kernelspec": {
   "display_name": "Python 3 (ipykernel)",
   "language": "python",
   "name": "python3"
  },
  "language_info": {
   "codemirror_mode": {
    "name": "ipython",
    "version": 3
   },
   "file_extension": ".py",
   "mimetype": "text/x-python",
   "name": "python",
   "nbconvert_exporter": "python",
   "pygments_lexer": "ipython3",
   "version": "3.10.15"
  }
 },
 "nbformat": 4,
 "nbformat_minor": 5
}
