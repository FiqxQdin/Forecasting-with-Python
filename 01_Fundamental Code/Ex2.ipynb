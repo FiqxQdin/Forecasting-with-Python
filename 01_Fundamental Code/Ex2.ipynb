{
 "cells": [
  {
   "cell_type": "code",
   "execution_count": 31,
   "id": "ce4e6215-fd9c-453d-adbc-4967613fbc8a",
   "metadata": {},
   "outputs": [],
   "source": [
    "import pandas as pd"
   ]
  },
  {
   "cell_type": "code",
   "execution_count": 32,
   "id": "7fabd686-5cbb-411c-b3a0-af0d1bcba6bf",
   "metadata": {},
   "outputs": [],
   "source": [
    "data = {\n",
    "    'Date': ['2017-01-01', '2017-02-01', '2017-03-01', '2017-04-01', '2017-05-01'],\n",
    "    'Parcel Volume': [1000, 900, 1100, 1300, 1500],\n",
    "    'Distance': [200, 150, 250, 180, 300],\n",
    "    'Cost per Mile': [2.5, 2.2, 3, 2.8, 3.5]\n",
    "}"
   ]
  },
  {
   "cell_type": "code",
   "execution_count": 33,
   "id": "dc3b2bbb-75a8-4a36-91d7-d2ee14369975",
   "metadata": {},
   "outputs": [],
   "source": [
    "df = pd.DataFrame(data)"
   ]
  },
  {
   "cell_type": "code",
   "execution_count": 34,
   "id": "c721104c-a591-484a-b6b9-6adf3891600f",
   "metadata": {},
   "outputs": [
    {
     "name": "stdout",
     "output_type": "stream",
     "text": [
      "         Date  Parcel Volume  Distance  Cost per Mile\n",
      "0  2017-01-01           1000       200            2.5\n",
      "1  2017-02-01            900       150            2.2\n",
      "2  2017-03-01           1100       250            3.0\n",
      "3  2017-04-01           1300       180            2.8\n",
      "4  2017-05-01           1500       300            3.5\n"
     ]
    }
   ],
   "source": [
    "print (df)"
   ]
  },
  {
   "cell_type": "code",
   "execution_count": 35,
   "id": "e75c93c5-3cab-410d-b079-5c4c7fce10d3",
   "metadata": {},
   "outputs": [],
   "source": [
    "df['Transportation Costs'] = df['Parcel Volume']*df['Distance']*df['Cost per Mile']"
   ]
  },
  {
   "cell_type": "code",
   "execution_count": 36,
   "id": "59f7200c-8afb-47b1-9f48-5f82c1825ae0",
   "metadata": {},
   "outputs": [
    {
     "name": "stdout",
     "output_type": "stream",
     "text": [
      "         Date  Parcel Volume  Distance  Cost per Mile  Transportation Costs\n",
      "0  2017-01-01           1000       200            2.5              500000.0\n",
      "1  2017-02-01            900       150            2.2              297000.0\n",
      "2  2017-03-01           1100       250            3.0              825000.0\n",
      "3  2017-04-01           1300       180            2.8              655200.0\n",
      "4  2017-05-01           1500       300            3.5             1575000.0\n"
     ]
    }
   ],
   "source": [
    "print(df)"
   ]
  }
 ],
 "metadata": {
  "kernelspec": {
   "display_name": "Python 3 (ipykernel)",
   "language": "python",
   "name": "python3"
  },
  "language_info": {
   "codemirror_mode": {
    "name": "ipython",
    "version": 3
   },
   "file_extension": ".py",
   "mimetype": "text/x-python",
   "name": "python",
   "nbconvert_exporter": "python",
   "pygments_lexer": "ipython3",
   "version": "3.10.15"
  }
 },
 "nbformat": 4,
 "nbformat_minor": 5
}
